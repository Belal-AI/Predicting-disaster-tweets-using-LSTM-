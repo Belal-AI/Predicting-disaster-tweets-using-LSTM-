{
  "nbformat": 4,
  "nbformat_minor": 0,
  "metadata": {
    "colab": {
      "name": "Predicting disaster tweets using LSTM.ipynb",
      "provenance": [],
      "collapsed_sections": [],
      "include_colab_link": true
    },
    "kernelspec": {
      "name": "python3",
      "display_name": "Python 3"
    },
    "language_info": {
      "name": "python"
    }
  },
  "cells": [
    {
      "cell_type": "markdown",
      "metadata": {
        "id": "view-in-github",
        "colab_type": "text"
      },
      "source": [
        "<a href=\"https://colab.research.google.com/github/Belal-AI/Predicting-disaster-tweets-using-LSTM-/blob/main/Predicting_disaster_tweets_using_LSTM.ipynb\" target=\"_parent\"><img src=\"https://colab.research.google.com/assets/colab-badge.svg\" alt=\"Open In Colab\"/></a>"
      ]
    },
    {
      "cell_type": "markdown",
      "source": [
        "#1)Load the dataset"
      ],
      "metadata": {
        "id": "PXp9v2H4Rwpo"
      }
    },
    {
      "cell_type": "code",
      "source": [
        "import pandas as pd\n",
        "import numpy as np\n",
        "import matplotlib.pyplot as plt\n",
        "import seaborn as sns\n",
        "import nltk\n"
      ],
      "metadata": {
        "id": "I7KKSBcRSFIx"
      },
      "execution_count": 4,
      "outputs": []
    },
    {
      "cell_type": "code",
      "execution_count": 31,
      "metadata": {
        "id": "0aT4X-OVRrNz",
        "outputId": "6cf55ad3-3349-4365-abf3-667053060e0c",
        "colab": {
          "base_uri": "https://localhost:8080/"
        }
      },
      "outputs": [
        {
          "output_type": "execute_result",
          "data": {
            "text/plain": [
              "(7613, 5)"
            ]
          },
          "metadata": {},
          "execution_count": 31
        }
      ],
      "source": [
        "train_data = pd.read_csv(\"train.csv\")\n",
        "train_data.shape"
      ]
    },
    {
      "cell_type": "markdown",
      "source": [
        "#2)Check head and info of the data"
      ],
      "metadata": {
        "id": "naiWIRMRSy0o"
      }
    },
    {
      "cell_type": "code",
      "source": [
        "train_data.head() # the top 4 of data"
      ],
      "metadata": {
        "colab": {
          "base_uri": "https://localhost:8080/",
          "height": 206
        },
        "id": "I2WtZT5xSxMu",
        "outputId": "0375611c-d096-4d7a-cfd8-1420ab92a680"
      },
      "execution_count": 6,
      "outputs": [
        {
          "output_type": "execute_result",
          "data": {
            "text/plain": [
              "   id keyword location                                               text  \\\n",
              "0   1     NaN      NaN  Our Deeds are the Reason of this #earthquake M...   \n",
              "1   4     NaN      NaN             Forest fire near La Ronge Sask. Canada   \n",
              "2   5     NaN      NaN  All residents asked to 'shelter in place' are ...   \n",
              "3   6     NaN      NaN  13,000 people receive #wildfires evacuation or...   \n",
              "4   7     NaN      NaN  Just got sent this photo from Ruby #Alaska as ...   \n",
              "\n",
              "   target  \n",
              "0       1  \n",
              "1       1  \n",
              "2       1  \n",
              "3       1  \n",
              "4       1  "
            ],
            "text/html": [
              "\n",
              "  <div id=\"df-3a2369b4-4ecd-4210-b219-3e57c7546ac5\">\n",
              "    <div class=\"colab-df-container\">\n",
              "      <div>\n",
              "<style scoped>\n",
              "    .dataframe tbody tr th:only-of-type {\n",
              "        vertical-align: middle;\n",
              "    }\n",
              "\n",
              "    .dataframe tbody tr th {\n",
              "        vertical-align: top;\n",
              "    }\n",
              "\n",
              "    .dataframe thead th {\n",
              "        text-align: right;\n",
              "    }\n",
              "</style>\n",
              "<table border=\"1\" class=\"dataframe\">\n",
              "  <thead>\n",
              "    <tr style=\"text-align: right;\">\n",
              "      <th></th>\n",
              "      <th>id</th>\n",
              "      <th>keyword</th>\n",
              "      <th>location</th>\n",
              "      <th>text</th>\n",
              "      <th>target</th>\n",
              "    </tr>\n",
              "  </thead>\n",
              "  <tbody>\n",
              "    <tr>\n",
              "      <th>0</th>\n",
              "      <td>1</td>\n",
              "      <td>NaN</td>\n",
              "      <td>NaN</td>\n",
              "      <td>Our Deeds are the Reason of this #earthquake M...</td>\n",
              "      <td>1</td>\n",
              "    </tr>\n",
              "    <tr>\n",
              "      <th>1</th>\n",
              "      <td>4</td>\n",
              "      <td>NaN</td>\n",
              "      <td>NaN</td>\n",
              "      <td>Forest fire near La Ronge Sask. Canada</td>\n",
              "      <td>1</td>\n",
              "    </tr>\n",
              "    <tr>\n",
              "      <th>2</th>\n",
              "      <td>5</td>\n",
              "      <td>NaN</td>\n",
              "      <td>NaN</td>\n",
              "      <td>All residents asked to 'shelter in place' are ...</td>\n",
              "      <td>1</td>\n",
              "    </tr>\n",
              "    <tr>\n",
              "      <th>3</th>\n",
              "      <td>6</td>\n",
              "      <td>NaN</td>\n",
              "      <td>NaN</td>\n",
              "      <td>13,000 people receive #wildfires evacuation or...</td>\n",
              "      <td>1</td>\n",
              "    </tr>\n",
              "    <tr>\n",
              "      <th>4</th>\n",
              "      <td>7</td>\n",
              "      <td>NaN</td>\n",
              "      <td>NaN</td>\n",
              "      <td>Just got sent this photo from Ruby #Alaska as ...</td>\n",
              "      <td>1</td>\n",
              "    </tr>\n",
              "  </tbody>\n",
              "</table>\n",
              "</div>\n",
              "      <button class=\"colab-df-convert\" onclick=\"convertToInteractive('df-3a2369b4-4ecd-4210-b219-3e57c7546ac5')\"\n",
              "              title=\"Convert this dataframe to an interactive table.\"\n",
              "              style=\"display:none;\">\n",
              "        \n",
              "  <svg xmlns=\"http://www.w3.org/2000/svg\" height=\"24px\"viewBox=\"0 0 24 24\"\n",
              "       width=\"24px\">\n",
              "    <path d=\"M0 0h24v24H0V0z\" fill=\"none\"/>\n",
              "    <path d=\"M18.56 5.44l.94 2.06.94-2.06 2.06-.94-2.06-.94-.94-2.06-.94 2.06-2.06.94zm-11 1L8.5 8.5l.94-2.06 2.06-.94-2.06-.94L8.5 2.5l-.94 2.06-2.06.94zm10 10l.94 2.06.94-2.06 2.06-.94-2.06-.94-.94-2.06-.94 2.06-2.06.94z\"/><path d=\"M17.41 7.96l-1.37-1.37c-.4-.4-.92-.59-1.43-.59-.52 0-1.04.2-1.43.59L10.3 9.45l-7.72 7.72c-.78.78-.78 2.05 0 2.83L4 21.41c.39.39.9.59 1.41.59.51 0 1.02-.2 1.41-.59l7.78-7.78 2.81-2.81c.8-.78.8-2.07 0-2.86zM5.41 20L4 18.59l7.72-7.72 1.47 1.35L5.41 20z\"/>\n",
              "  </svg>\n",
              "      </button>\n",
              "      \n",
              "  <style>\n",
              "    .colab-df-container {\n",
              "      display:flex;\n",
              "      flex-wrap:wrap;\n",
              "      gap: 12px;\n",
              "    }\n",
              "\n",
              "    .colab-df-convert {\n",
              "      background-color: #E8F0FE;\n",
              "      border: none;\n",
              "      border-radius: 50%;\n",
              "      cursor: pointer;\n",
              "      display: none;\n",
              "      fill: #1967D2;\n",
              "      height: 32px;\n",
              "      padding: 0 0 0 0;\n",
              "      width: 32px;\n",
              "    }\n",
              "\n",
              "    .colab-df-convert:hover {\n",
              "      background-color: #E2EBFA;\n",
              "      box-shadow: 0px 1px 2px rgba(60, 64, 67, 0.3), 0px 1px 3px 1px rgba(60, 64, 67, 0.15);\n",
              "      fill: #174EA6;\n",
              "    }\n",
              "\n",
              "    [theme=dark] .colab-df-convert {\n",
              "      background-color: #3B4455;\n",
              "      fill: #D2E3FC;\n",
              "    }\n",
              "\n",
              "    [theme=dark] .colab-df-convert:hover {\n",
              "      background-color: #434B5C;\n",
              "      box-shadow: 0px 1px 3px 1px rgba(0, 0, 0, 0.15);\n",
              "      filter: drop-shadow(0px 1px 2px rgba(0, 0, 0, 0.3));\n",
              "      fill: #FFFFFF;\n",
              "    }\n",
              "  </style>\n",
              "\n",
              "      <script>\n",
              "        const buttonEl =\n",
              "          document.querySelector('#df-3a2369b4-4ecd-4210-b219-3e57c7546ac5 button.colab-df-convert');\n",
              "        buttonEl.style.display =\n",
              "          google.colab.kernel.accessAllowed ? 'block' : 'none';\n",
              "\n",
              "        async function convertToInteractive(key) {\n",
              "          const element = document.querySelector('#df-3a2369b4-4ecd-4210-b219-3e57c7546ac5');\n",
              "          const dataTable =\n",
              "            await google.colab.kernel.invokeFunction('convertToInteractive',\n",
              "                                                     [key], {});\n",
              "          if (!dataTable) return;\n",
              "\n",
              "          const docLinkHtml = 'Like what you see? Visit the ' +\n",
              "            '<a target=\"_blank\" href=https://colab.research.google.com/notebooks/data_table.ipynb>data table notebook</a>'\n",
              "            + ' to learn more about interactive tables.';\n",
              "          element.innerHTML = '';\n",
              "          dataTable['output_type'] = 'display_data';\n",
              "          await google.colab.output.renderOutput(dataTable, element);\n",
              "          const docLink = document.createElement('div');\n",
              "          docLink.innerHTML = docLinkHtml;\n",
              "          element.appendChild(docLink);\n",
              "        }\n",
              "      </script>\n",
              "    </div>\n",
              "  </div>\n",
              "  "
            ]
          },
          "metadata": {},
          "execution_count": 6
        }
      ]
    },
    {
      "cell_type": "markdown",
      "source": [
        "#3)Percentage of nulls"
      ],
      "metadata": {
        "id": "RAKPvaOrS9BY"
      }
    },
    {
      "cell_type": "code",
      "source": [
        "total_nullss_values = train_data.isna().sum().sum() ## summ all summtion of the nulls \n",
        "percentage_of_missing_valeus = (total_nullss_values/train_data.shape[0])*100 #percentage of nulls\n",
        "\n",
        "percentage_of_missing_valeus"
      ],
      "metadata": {
        "colab": {
          "base_uri": "https://localhost:8080/"
        },
        "id": "9G19-bWrSqr6",
        "outputId": "4d230588-e2d6-43cf-f22b-13ad1da7206e"
      },
      "execution_count": 7,
      "outputs": [
        {
          "output_type": "execute_result",
          "data": {
            "text/plain": [
              "34.073295678444765"
            ]
          },
          "metadata": {},
          "execution_count": 7
        }
      ]
    },
    {
      "cell_type": "markdown",
      "source": [
        "#4)the Percentage of data between each claas and the value "
      ],
      "metadata": {
        "id": "zYfvVqSAUJq_"
      }
    },
    {
      "cell_type": "code",
      "source": [
        "sns.countplot(train_data['target'])"
      ],
      "metadata": {
        "colab": {
          "base_uri": "https://localhost:8080/",
          "height": 351
        },
        "id": "IPppHgnUToA3",
        "outputId": "efa41d08-9d10-43ef-f675-80a32614708d"
      },
      "execution_count": 8,
      "outputs": [
        {
          "output_type": "stream",
          "name": "stderr",
          "text": [
            "/usr/local/lib/python3.7/dist-packages/seaborn/_decorators.py:43: FutureWarning: Pass the following variable as a keyword arg: x. From version 0.12, the only valid positional argument will be `data`, and passing other arguments without an explicit keyword will result in an error or misinterpretation.\n",
            "  FutureWarning\n"
          ]
        },
        {
          "output_type": "execute_result",
          "data": {
            "text/plain": [
              "<matplotlib.axes._subplots.AxesSubplot at 0x7f6dc23f7110>"
            ]
          },
          "metadata": {},
          "execution_count": 8
        },
        {
          "output_type": "display_data",
          "data": {
            "text/plain": [
              "<Figure size 432x288 with 1 Axes>"
            ],
            "image/png": "[encoded data removed]"
          },
          "metadata": {
            "needs_background": "light"
          }
        }
      ]
    },
    {
      "cell_type": "markdown",
      "source": [
        "#5)top 15 locations of the data"
      ],
      "metadata": {
        "id": "RLnZTIgNWRh3"
      }
    },
    {
      "cell_type": "code",
      "source": [
        "train_data['location'].mode() # the most repeteted country "
      ],
      "metadata": {
        "colab": {
          "base_uri": "https://localhost:8080/"
        },
        "id": "mNEwboYkaW7G",
        "outputId": "1653bd70-fee7-4f9c-d276-5835927a0237"
      },
      "execution_count": 9,
      "outputs": [
        {
          "output_type": "execute_result",
          "data": {
            "text/plain": [
              "0    USA\n",
              "dtype: object"
            ]
          },
          "metadata": {},
          "execution_count": 9
        }
      ]
    },
    {
      "cell_type": "code",
      "source": [
        "train_data['location'].fillna('USA',inplace=True) ## fill the null by mode "
      ],
      "metadata": {
        "id": "SNJpvubaYj9I"
      },
      "execution_count": 10,
      "outputs": []
    },
    {
      "cell_type": "code",
      "source": [
        "train_data['location'].value_counts().head(15) ## the top 15"
      ],
      "metadata": {
        "colab": {
          "base_uri": "https://localhost:8080/"
        },
        "id": "1K8KzmG5ZmIA",
        "outputId": "6ae84e13-549d-4772-dae0-209f708dbaea"
      },
      "execution_count": 11,
      "outputs": [
        {
          "output_type": "execute_result",
          "data": {
            "text/plain": [
              "USA                2637\n",
              "New York             71\n",
              "United States        50\n",
              "London               45\n",
              "Canada               29\n",
              "Nigeria              28\n",
              "UK                   27\n",
              "Los Angeles, CA      26\n",
              "India                24\n",
              "Mumbai               22\n",
              "Washington, DC       21\n",
              "Kenya                20\n",
              "Worldwide            19\n",
              "Australia            18\n",
              "Chicago, IL          18\n",
              "Name: location, dtype: int64"
            ]
          },
          "metadata": {},
          "execution_count": 11
        }
      ]
    },
    {
      "cell_type": "markdown",
      "source": [
        "#6) Get the top 15 keyword in the data"
      ],
      "metadata": {
        "id": "P8MPLeBMcFe2"
      }
    },
    {
      "cell_type": "code",
      "source": [
        "train_data['keyword'].value_counts().head(15) ## the top15 of the keywords"
      ],
      "metadata": {
        "colab": {
          "base_uri": "https://localhost:8080/"
        },
        "id": "3wUq-qi5aG39",
        "outputId": "a0b0350d-63c2-4a94-bd2f-d09ca8865cf7"
      },
      "execution_count": 12,
      "outputs": [
        {
          "output_type": "execute_result",
          "data": {
            "text/plain": [
              "fatalities     45\n",
              "deluge         42\n",
              "armageddon     42\n",
              "sinking        41\n",
              "damage         41\n",
              "harm           41\n",
              "body%20bags    41\n",
              "outbreak       40\n",
              "evacuate       40\n",
              "fear           40\n",
              "collided       40\n",
              "siren          40\n",
              "twister        40\n",
              "windstorm      40\n",
              "sinkhole       39\n",
              "Name: keyword, dtype: int64"
            ]
          },
          "metadata": {},
          "execution_count": 12
        }
      ]
    },
    {
      "cell_type": "code",
      "source": [
        "train_data['keyword'].fillna('fatalities',inplace=True) ## file the nulls by\n",
        "train_data['keyword'].value_counts().head(15)"
      ],
      "metadata": {
        "id": "E-u-EwlRcKUA",
        "colab": {
          "base_uri": "https://localhost:8080/"
        },
        "outputId": "b9db0399-ba2c-42c6-83bc-f03bfd5b6af7"
      },
      "execution_count": 13,
      "outputs": [
        {
          "output_type": "execute_result",
          "data": {
            "text/plain": [
              "fatalities     106\n",
              "deluge          42\n",
              "armageddon      42\n",
              "damage          41\n",
              "harm            41\n",
              "body%20bags     41\n",
              "sinking         41\n",
              "siren           40\n",
              "evacuate        40\n",
              "fear            40\n",
              "outbreak        40\n",
              "twister         40\n",
              "windstorm       40\n",
              "collided        40\n",
              "sunk            39\n",
              "Name: keyword, dtype: int64"
            ]
          },
          "metadata": {},
          "execution_count": 13
        }
      ]
    },
    {
      "cell_type": "markdown",
      "source": [
        "#7) What are the most common words?"
      ],
      "metadata": {
        "id": "Hd6XDl7kex_-"
      }
    },
    {
      "cell_type": "markdown",
      "source": [
        "####Cleaning tweets"
      ],
      "metadata": {
        "id": "WI4oDgnQf8N9"
      }
    },
    {
      "cell_type": "code",
      "source": [
        "import re\n",
        "tweets = train_data['text'] \n",
        "tweets[:10]"
      ],
      "metadata": {
        "colab": {
          "base_uri": "https://localhost:8080/"
        },
        "id": "9yMmJbUJfNMx",
        "outputId": "4e1cd503-9ca5-4883-8205-8cd5bcadd9ee"
      },
      "execution_count": 14,
      "outputs": [
        {
          "output_type": "execute_result",
          "data": {
            "text/plain": [
              "0    Our Deeds are the Reason of this #earthquake M...\n",
              "1               Forest fire near La Ronge Sask. Canada\n",
              "2    All residents asked to 'shelter in place' are ...\n",
              "3    13,000 people receive #wildfires evacuation or...\n",
              "4    Just got sent this photo from Ruby #Alaska as ...\n",
              "5    #RockyFire Update => California Hwy. 20 closed...\n",
              "6    #flood #disaster Heavy rain causes flash flood...\n",
              "7    I'm on top of the hill and I can see a fire in...\n",
              "8    There's an emergency evacuation happening now ...\n",
              "9    I'm afraid that the tornado is coming to our a...\n",
              "Name: text, dtype: object"
            ]
          },
          "metadata": {},
          "execution_count": 14
        }
      ]
    },
    {
      "cell_type": "code",
      "source": [
        "def Removingunicodes(word): ##removing the words with funny letters \n",
        "  temp = word.encode(\"ascii\", \"ignore\")\n",
        "  temp = temp.decode()\n",
        "  return temp"
      ],
      "metadata": {
        "id": "LPW8L9F8BanB"
      },
      "execution_count": 15,
      "outputs": []
    },
    {
      "cell_type": "code",
      "source": [
        "def Cleantexts(text): # reomving the last and first spaces ,links , dots and emotions \n",
        "  text = re.sub(r'#\\w*','',text)\n",
        "  text = re.sub(r'@\\w*','',text)\n",
        "  text = re.sub(r'https?:\\S+','',text)\n",
        "  text = re.sub(r'\\d+','',text)\n",
        "  text = re.sub(r'\\W+',' ',text)\n",
        "  text = re.sub(r'^\\s','',text)\n",
        "  text = re.sub(r'\\s$','',text)\n",
        "  text = re.sub(r'_','',text)\n",
        "\n",
        "\n",
        "  return text"
      ],
      "metadata": {
        "id": "kWTxUhl5fNKY"
      },
      "execution_count": 16,
      "outputs": []
    },
    {
      "cell_type": "code",
      "source": [
        "cleaned_tweets = []\n",
        "for tweet in tweets:\n",
        "  cleaned_tweets.append(Cleantexts(tweet))"
      ],
      "metadata": {
        "id": "_GUx8MgNfNCN"
      },
      "execution_count": 17,
      "outputs": []
    },
    {
      "cell_type": "code",
      "source": [
        "no_uni = []\n",
        "for tweet in cleaned_tweets:\n",
        "  no_uni.append(Removingunicodes(tweet))"
      ],
      "metadata": {
        "id": "RRwufUADChiw"
      },
      "execution_count": 18,
      "outputs": []
    },
    {
      "cell_type": "code",
      "source": [
        "list_of_tweets = []   #toknize the tweets manually\n",
        "for tweet in no_uni:\n",
        "  list_of_tweets.append(tweet.split())\n",
        "list_of_tweets[:2]"
      ],
      "metadata": {
        "id": "gdrSE8Z1vrTz",
        "colab": {
          "base_uri": "https://localhost:8080/"
        },
        "outputId": "82a73809-96fe-4a07-9b4a-3e254d84bfec"
      },
      "execution_count": 19,
      "outputs": [
        {
          "output_type": "execute_result",
          "data": {
            "text/plain": [
              "[['Our',\n",
              "  'Deeds',\n",
              "  'are',\n",
              "  'the',\n",
              "  'Reason',\n",
              "  'of',\n",
              "  'this',\n",
              "  'May',\n",
              "  'ALLAH',\n",
              "  'Forgive',\n",
              "  'us',\n",
              "  'all'],\n",
              " ['Forest', 'fire', 'near', 'La', 'Ronge', 'Sask', 'Canada']]"
            ]
          },
          "metadata": {},
          "execution_count": 19
        }
      ]
    },
    {
      "cell_type": "code",
      "source": [
        "words = [] ##ravel the list of  words to can get the top repeted words and stopwords\n",
        "for sentence in list_of_tweets:\n",
        "  for word in sentence:\n",
        "    words.append(word)\n"
      ],
      "metadata": {
        "id": "HvkWXZZ7yXpD"
      },
      "execution_count": 20,
      "outputs": []
    },
    {
      "cell_type": "code",
      "source": [
        "from nltk.corpus import stopwords\n",
        "nltk.download('stopwords')"
      ],
      "metadata": {
        "colab": {
          "base_uri": "https://localhost:8080/"
        },
        "id": "GCPKKeUx_EYI",
        "outputId": "1b569b74-4ea0-46a6-e891-8b3f1df7d57e"
      },
      "execution_count": 21,
      "outputs": [
        {
          "output_type": "stream",
          "name": "stdout",
          "text": [
            "[nltk_data] Downloading package stopwords to /root/nltk_data...\n",
            "[nltk_data]   Unzipping corpora/stopwords.zip.\n"
          ]
        },
        {
          "output_type": "execute_result",
          "data": {
            "text/plain": [
              "True"
            ]
          },
          "metadata": {},
          "execution_count": 21
        }
      ]
    },
    {
      "cell_type": "code",
      "source": [
        "from nltk.corpus import stopwords\n",
        "stop_words = stopwords.words('english') ##get all the stopwrds\n",
        "\n",
        "def remove_stopwords(words): \n",
        "  WORDS = []\n",
        "  for word in words:\n",
        "    if word.lower() not in stop_words:   ##check if the word is stop or not with making sure its small word \n",
        "      WORDS.append(word)\n",
        "  return WORDS"
      ],
      "metadata": {
        "id": "A9w3vCHe2WxM"
      },
      "execution_count": 22,
      "outputs": []
    },
    {
      "cell_type": "code",
      "source": [
        ""
      ],
      "metadata": {
        "id": "eHEhnRfH_eDz"
      },
      "execution_count": 22,
      "outputs": []
    },
    {
      "cell_type": "markdown",
      "source": [
        "#The most Common stop words "
      ],
      "metadata": {
        "id": "wuhLPigc_ffy"
      }
    },
    {
      "cell_type": "code",
      "source": [
        "from collections import Counter\n",
        "most_Stop_words=Counter(words).most_common\n",
        "most_Stop_words()[:5] ##showing the top stopwords"
      ],
      "metadata": {
        "colab": {
          "base_uri": "https://localhost:8080/"
        },
        "id": "m_E0cPB1_bgw",
        "outputId": "cc610098-2fb7-4e60-aa77-d0907716c912"
      },
      "execution_count": 23,
      "outputs": [
        {
          "output_type": "execute_result",
          "data": {
            "text/plain": [
              "[('the', 2603), ('a', 1891), ('to', 1819), ('in', 1782), ('of', 1738)]"
            ]
          },
          "metadata": {},
          "execution_count": 23
        }
      ]
    },
    {
      "cell_type": "code",
      "source": [
        "words = remove_stopwords(words) ##removing the stop words "
      ],
      "metadata": {
        "id": "EXaZngOyyy3J"
      },
      "execution_count": 24,
      "outputs": []
    },
    {
      "cell_type": "markdown",
      "source": [
        "#The most common words "
      ],
      "metadata": {
        "id": "wlznq3Gu_pT4"
      }
    },
    {
      "cell_type": "code",
      "source": [
        "from collections import Counter\n",
        "Counter(words).most_common()[:5] ## the most common words"
      ],
      "metadata": {
        "colab": {
          "base_uri": "https://localhost:8080/"
        },
        "id": "JgeoP0aNyy1E",
        "outputId": "39b6a287-a535-486e-c025-c3b9ae454408"
      },
      "execution_count": 25,
      "outputs": [
        {
          "output_type": "execute_result",
          "data": {
            "text/plain": [
              "[('amp', 344), ('like', 324), ('via', 213), ('get', 184), ('fire', 174)]"
            ]
          },
          "metadata": {},
          "execution_count": 25
        }
      ]
    },
    {
      "cell_type": "markdown",
      "source": [
        "# Removing the stop-words from the words of the statements not the list of words which is raveled"
      ],
      "metadata": {
        "id": "OkJrp5DfL8ft"
      }
    },
    {
      "cell_type": "code",
      "source": [
        "for tweet_worded in list_of_tweets:\n",
        "  for word in tweet_worded:\n",
        "    if word.lower() in stop_words or word in stop_words or word.upper() in stop_words or word=='us':\n",
        "      tweet_worded.remove(word)\n",
        "    \n",
        "\n",
        "  "
      ],
      "metadata": {
        "id": "W5TG1AdSH_NP"
      },
      "execution_count": 26,
      "outputs": []
    },
    {
      "cell_type": "code",
      "source": [
        "list_of_tweets[:3]"
      ],
      "metadata": {
        "colab": {
          "base_uri": "https://localhost:8080/"
        },
        "id": "L1_dyMaeNdfz",
        "outputId": "c44994a5-dc7a-41b2-9fb5-2fc0091dcf2d"
      },
      "execution_count": 27,
      "outputs": [
        {
          "output_type": "execute_result",
          "data": {
            "text/plain": [
              "[['Deeds', 'the', 'Reason', 'this', 'May', 'ALLAH', 'Forgive', 'all'],\n",
              " ['Forest', 'fire', 'near', 'La', 'Ronge', 'Sask', 'Canada'],\n",
              " ['residents',\n",
              "  'asked',\n",
              "  'shelter',\n",
              "  'place',\n",
              "  'being',\n",
              "  'notified',\n",
              "  'officers',\n",
              "  'other',\n",
              "  'evacuation',\n",
              "  'shelter',\n",
              "  'place',\n",
              "  'orders',\n",
              "  'expected']]"
            ]
          },
          "metadata": {},
          "execution_count": 27
        }
      ]
    },
    {
      "cell_type": "code",
      "source": [
        "from nltk.stem import PorterStemmer\n",
        "ps=PorterStemmer()\n",
        "def preparing_wrods(tweets):\n",
        "  prepared_tweet=[]\n",
        "  for tweet in tweets:\n",
        "    tweet=[ps.stem(word) for word in tweet]\n",
        "    prepared_tweet.append(tweet)\n",
        "  return prepared_tweet"
      ],
      "metadata": {
        "id": "Gxp_yzclf403"
      },
      "execution_count": 28,
      "outputs": []
    },
    {
      "cell_type": "code",
      "source": [
        "len(list_of_tweets)"
      ],
      "metadata": {
        "id": "s5prSToDgTUR",
        "outputId": "e90533fb-3072-48ae-dcac-e5758388f428",
        "colab": {
          "base_uri": "https://localhost:8080/"
        }
      },
      "execution_count": 29,
      "outputs": [
        {
          "output_type": "execute_result",
          "data": {
            "text/plain": [
              "7613"
            ]
          },
          "metadata": {},
          "execution_count": 29
        }
      ]
    },
    {
      "cell_type": "code",
      "source": [
        "list_of_tweets=preparing_wrods(list_of_tweets)"
      ],
      "metadata": {
        "id": "IPeG_ETCgZZ2"
      },
      "execution_count": 32,
      "outputs": []
    },
    {
      "cell_type": "code",
      "source": [
        "list_of_tweets[:5]"
      ],
      "metadata": {
        "id": "cI77T_jVgmZK",
        "outputId": "60e6a06d-073f-40a3-f29d-7b36a7f551f2",
        "colab": {
          "base_uri": "https://localhost:8080/"
        }
      },
      "execution_count": 35,
      "outputs": [
        {
          "output_type": "execute_result",
          "data": {
            "text/plain": [
              "[['deed', 'the', 'reason', 'thi', 'may', 'allah', 'forgiv', 'all'],\n",
              " ['forest', 'fire', 'near', 'La', 'rong', 'sask', 'canada'],\n",
              " ['resid',\n",
              "  'ask',\n",
              "  'shelter',\n",
              "  'place',\n",
              "  'be',\n",
              "  'notifi',\n",
              "  'offic',\n",
              "  'other',\n",
              "  'evacu',\n",
              "  'shelter',\n",
              "  'place',\n",
              "  'order',\n",
              "  'expect'],\n",
              " ['peopl', 'receiv', 'evacu', 'order', 'california'],\n",
              " ['got', 'sent', 'photo', 'rubi', 'smoke', 'pour', 'a', 'school']]"
            ]
          },
          "metadata": {},
          "execution_count": 35
        }
      ]
    },
    {
      "cell_type": "code",
      "source": [
        ""
      ],
      "metadata": {
        "id": "6L9OlcXWgr67"
      },
      "execution_count": null,
      "outputs": []
    }
  ]
}