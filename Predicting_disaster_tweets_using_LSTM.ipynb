{
  "nbformat": 4,
  "nbformat_minor": 0,
  "metadata": {
    "colab": {
      "name": "Predicting disaster tweets using LSTM.ipynb",
      "provenance": [],
      "collapsed_sections": [],
      "include_colab_link": true
    },
    "kernelspec": {
      "name": "python3",
      "display_name": "Python 3"
    },
    "language_info": {
      "name": "python"
    }
  },
  "cells": [
    {
      "cell_type": "markdown",
      "metadata": {
        "id": "view-in-github",
        "colab_type": "text"
      },
      "source": [
        "<a href=\"https://colab.research.google.com/github/Belal-AI/Predicting-disaster-tweets-using-LSTM-/blob/main/Predicting_disaster_tweets_using_LSTM.ipynb\" target=\"_parent\"><img src=\"https://colab.research.google.com/assets/colab-badge.svg\" alt=\"Open In Colab\"/></a>"
      ]
    },
    {
      "cell_type": "markdown",
      "source": [
        "#1)Load the dataset"
      ],
      "metadata": {
        "id": "PXp9v2H4Rwpo"
      }
    },
    {
      "cell_type": "code",
      "source": [
        "import pandas as pd\n",
        "import numpy as np\n",
        "import matplotlib.pyplot as plt\n",
        "import seaborn as sns\n",
        "import nltk\n"
      ],
      "metadata": {
        "id": "I7KKSBcRSFIx"
      },
      "execution_count": 1,
      "outputs": []
    },
    {
      "cell_type": "code",
      "execution_count": 2,
      "metadata": {
        "id": "0aT4X-OVRrNz",
        "outputId": "2757d660-b3c1-4682-ea8a-e46abfa07713",
        "colab": {
          "base_uri": "https://localhost:8080/"
        }
      },
      "outputs": [
        {
          "output_type": "execute_result",
          "data": {
            "text/plain": [
              "(7613, 5)"
            ]
          },
          "metadata": {},
          "execution_count": 2
        }
      ],
      "source": [
        "train_data = pd.read_csv(\"train.csv\")\n",
        "train_data.shape"
      ]
    },
    {
      "cell_type": "markdown",
      "source": [
        "#2)Check head and info of the data"
      ],
      "metadata": {
        "id": "naiWIRMRSy0o"
      }
    },
    {
      "cell_type": "code",
      "source": [
        "train_data.head() # the top 4 of data"
      ],
      "metadata": {
        "colab": {
          "base_uri": "https://localhost:8080/",
          "height": 206
        },
        "id": "I2WtZT5xSxMu",
        "outputId": "0ce858d5-be18-4cc0-f000-21de01c9b3b0"
      },
      "execution_count": 3,
      "outputs": [
        {
          "output_type": "execute_result",
          "data": {
            "text/plain": [
              "   id keyword location                                               text  \\\n",
              "0   1     NaN      NaN  Our Deeds are the Reason of this #earthquake M...   \n",
              "1   4     NaN      NaN             Forest fire near La Ronge Sask. Canada   \n",
              "2   5     NaN      NaN  All residents asked to 'shelter in place' are ...   \n",
              "3   6     NaN      NaN  13,000 people receive #wildfires evacuation or...   \n",
              "4   7     NaN      NaN  Just got sent this photo from Ruby #Alaska as ...   \n",
              "\n",
              "   target  \n",
              "0       1  \n",
              "1       1  \n",
              "2       1  \n",
              "3       1  \n",
              "4       1  "
            ],
            "text/html": [
              "\n",
              "  <div id=\"df-5391f93f-ec9b-4065-a93c-50284e280a54\">\n",
              "    <div class=\"colab-df-container\">\n",
              "      <div>\n",
              "<style scoped>\n",
              "    .dataframe tbody tr th:only-of-type {\n",
              "        vertical-align: middle;\n",
              "    }\n",
              "\n",
              "    .dataframe tbody tr th {\n",
              "        vertical-align: top;\n",
              "    }\n",
              "\n",
              "    .dataframe thead th {\n",
              "        text-align: right;\n",
              "    }\n",
              "</style>\n",
              "<table border=\"1\" class=\"dataframe\">\n",
              "  <thead>\n",
              "    <tr style=\"text-align: right;\">\n",
              "      <th></th>\n",
              "      <th>id</th>\n",
              "      <th>keyword</th>\n",
              "      <th>location</th>\n",
              "      <th>text</th>\n",
              "      <th>target</th>\n",
              "    </tr>\n",
              "  </thead>\n",
              "  <tbody>\n",
              "    <tr>\n",
              "      <th>0</th>\n",
              "      <td>1</td>\n",
              "      <td>NaN</td>\n",
              "      <td>NaN</td>\n",
              "      <td>Our Deeds are the Reason of this #earthquake M...</td>\n",
              "      <td>1</td>\n",
              "    </tr>\n",
              "    <tr>\n",
              "      <th>1</th>\n",
              "      <td>4</td>\n",
              "      <td>NaN</td>\n",
              "      <td>NaN</td>\n",
              "      <td>Forest fire near La Ronge Sask. Canada</td>\n",
              "      <td>1</td>\n",
              "    </tr>\n",
              "    <tr>\n",
              "      <th>2</th>\n",
              "      <td>5</td>\n",
              "      <td>NaN</td>\n",
              "      <td>NaN</td>\n",
              "      <td>All residents asked to 'shelter in place' are ...</td>\n",
              "      <td>1</td>\n",
              "    </tr>\n",
              "    <tr>\n",
              "      <th>3</th>\n",
              "      <td>6</td>\n",
              "      <td>NaN</td>\n",
              "      <td>NaN</td>\n",
              "      <td>13,000 people receive #wildfires evacuation or...</td>\n",
              "      <td>1</td>\n",
              "    </tr>\n",
              "    <tr>\n",
              "      <th>4</th>\n",
              "      <td>7</td>\n",
              "      <td>NaN</td>\n",
              "      <td>NaN</td>\n",
              "      <td>Just got sent this photo from Ruby #Alaska as ...</td>\n",
              "      <td>1</td>\n",
              "    </tr>\n",
              "  </tbody>\n",
              "</table>\n",
              "</div>\n",
              "      <button class=\"colab-df-convert\" onclick=\"convertToInteractive('df-5391f93f-ec9b-4065-a93c-50284e280a54')\"\n",
              "              title=\"Convert this dataframe to an interactive table.\"\n",
              "              style=\"display:none;\">\n",
              "        \n",
              "  <svg xmlns=\"http://www.w3.org/2000/svg\" height=\"24px\"viewBox=\"0 0 24 24\"\n",
              "       width=\"24px\">\n",
              "    <path d=\"M0 0h24v24H0V0z\" fill=\"none\"/>\n",
              "    <path d=\"M18.56 5.44l.94 2.06.94-2.06 2.06-.94-2.06-.94-.94-2.06-.94 2.06-2.06.94zm-11 1L8.5 8.5l.94-2.06 2.06-.94-2.06-.94L8.5 2.5l-.94 2.06-2.06.94zm10 10l.94 2.06.94-2.06 2.06-.94-2.06-.94-.94-2.06-.94 2.06-2.06.94z\"/><path d=\"M17.41 7.96l-1.37-1.37c-.4-.4-.92-.59-1.43-.59-.52 0-1.04.2-1.43.59L10.3 9.45l-7.72 7.72c-.78.78-.78 2.05 0 2.83L4 21.41c.39.39.9.59 1.41.59.51 0 1.02-.2 1.41-.59l7.78-7.78 2.81-2.81c.8-.78.8-2.07 0-2.86zM5.41 20L4 18.59l7.72-7.72 1.47 1.35L5.41 20z\"/>\n",
              "  </svg>\n",
              "      </button>\n",
              "      \n",
              "  <style>\n",
              "    .colab-df-container {\n",
              "      display:flex;\n",
              "      flex-wrap:wrap;\n",
              "      gap: 12px;\n",
              "    }\n",
              "\n",
              "    .colab-df-convert {\n",
              "      background-color: #E8F0FE;\n",
              "      border: none;\n",
              "      border-radius: 50%;\n",
              "      cursor: pointer;\n",
              "      display: none;\n",
              "      fill: #1967D2;\n",
              "      height: 32px;\n",
              "      padding: 0 0 0 0;\n",
              "      width: 32px;\n",
              "    }\n",
              "\n",
              "    .colab-df-convert:hover {\n",
              "      background-color: #E2EBFA;\n",
              "      box-shadow: 0px 1px 2px rgba(60, 64, 67, 0.3), 0px 1px 3px 1px rgba(60, 64, 67, 0.15);\n",
              "      fill: #174EA6;\n",
              "    }\n",
              "\n",
              "    [theme=dark] .colab-df-convert {\n",
              "      background-color: #3B4455;\n",
              "      fill: #D2E3FC;\n",
              "    }\n",
              "\n",
              "    [theme=dark] .colab-df-convert:hover {\n",
              "      background-color: #434B5C;\n",
              "      box-shadow: 0px 1px 3px 1px rgba(0, 0, 0, 0.15);\n",
              "      filter: drop-shadow(0px 1px 2px rgba(0, 0, 0, 0.3));\n",
              "      fill: #FFFFFF;\n",
              "    }\n",
              "  </style>\n",
              "\n",
              "      <script>\n",
              "        const buttonEl =\n",
              "          document.querySelector('#df-5391f93f-ec9b-4065-a93c-50284e280a54 button.colab-df-convert');\n",
              "        buttonEl.style.display =\n",
              "          google.colab.kernel.accessAllowed ? 'block' : 'none';\n",
              "\n",
              "        async function convertToInteractive(key) {\n",
              "          const element = document.querySelector('#df-5391f93f-ec9b-4065-a93c-50284e280a54');\n",
              "          const dataTable =\n",
              "            await google.colab.kernel.invokeFunction('convertToInteractive',\n",
              "                                                     [key], {});\n",
              "          if (!dataTable) return;\n",
              "\n",
              "          const docLinkHtml = 'Like what you see? Visit the ' +\n",
              "            '<a target=\"_blank\" href=https://colab.research.google.com/notebooks/data_table.ipynb>data table notebook</a>'\n",
              "            + ' to learn more about interactive tables.';\n",
              "          element.innerHTML = '';\n",
              "          dataTable['output_type'] = 'display_data';\n",
              "          await google.colab.output.renderOutput(dataTable, element);\n",
              "          const docLink = document.createElement('div');\n",
              "          docLink.innerHTML = docLinkHtml;\n",
              "          element.appendChild(docLink);\n",
              "        }\n",
              "      </script>\n",
              "    </div>\n",
              "  </div>\n",
              "  "
            ]
          },
          "metadata": {},
          "execution_count": 3
        }
      ]
    },
    {
      "cell_type": "markdown",
      "source": [
        "#3)Percentage of nulls"
      ],
      "metadata": {
        "id": "RAKPvaOrS9BY"
      }
    },
    {
      "cell_type": "code",
      "source": [
        "total_nullss_values = train_data.isna().sum().sum() ## summ all summtion of the nulls \n",
        "percentage_of_missing_valeus = (total_nullss_values/train_data.shape[0])*100 #percentage of nulls\n",
        "\n",
        "percentage_of_missing_valeus"
      ],
      "metadata": {
        "colab": {
          "base_uri": "https://localhost:8080/"
        },
        "id": "9G19-bWrSqr6",
        "outputId": "f51fecee-0670-48be-d2f1-c32579a0f6a5"
      },
      "execution_count": 4,
      "outputs": [
        {
          "output_type": "execute_result",
          "data": {
            "text/plain": [
              "34.073295678444765"
            ]
          },
          "metadata": {},
          "execution_count": 4
        }
      ]
    },
    {
      "cell_type": "markdown",
      "source": [
        "#4)the Percentage of data between each claas and the value "
      ],
      "metadata": {
        "id": "zYfvVqSAUJq_"
      }
    },
    {
      "cell_type": "code",
      "source": [
        "sns.countplot(train_data['target'])"
      ],
      "metadata": {
        "colab": {
          "base_uri": "https://localhost:8080/",
          "height": 351
        },
        "id": "IPppHgnUToA3",
        "outputId": "186a8288-c1d4-4c6c-8d88-ebfe04d08445"
      },
      "execution_count": 5,
      "outputs": [
        {
          "output_type": "stream",
          "name": "stderr",
          "text": [
            "/usr/local/lib/python3.7/dist-packages/seaborn/_decorators.py:43: FutureWarning: Pass the following variable as a keyword arg: x. From version 0.12, the only valid positional argument will be `data`, and passing other arguments without an explicit keyword will result in an error or misinterpretation.\n",
            "  FutureWarning\n"
          ]
        },
        {
          "output_type": "execute_result",
          "data": {
            "text/plain": [
              "<matplotlib.axes._subplots.AxesSubplot at 0x7f7986b17e10>"
            ]
          },
          "metadata": {},
          "execution_count": 5
        },
        {
          "output_type": "display_data",
          "data": {
            "text/plain": [
              "<Figure size 432x288 with 1 Axes>"
            ],
            "image/png": "[encoded data removed]"
          },
          "metadata": {
            "needs_background": "light"
          }
        }
      ]
    },
    {
      "cell_type": "markdown",
      "source": [
        "#5)top 15 locations of the data"
      ],
      "metadata": {
        "id": "RLnZTIgNWRh3"
      }
    },
    {
      "cell_type": "code",
      "source": [
        "train_data['location'].mode() # the most repeteted country "
      ],
      "metadata": {
        "colab": {
          "base_uri": "https://localhost:8080/"
        },
        "id": "mNEwboYkaW7G",
        "outputId": "44bb5709-94c0-49ca-80f6-14a44dea9fbb"
      },
      "execution_count": 6,
      "outputs": [
        {
          "output_type": "execute_result",
          "data": {
            "text/plain": [
              "0    USA\n",
              "dtype: object"
            ]
          },
          "metadata": {},
          "execution_count": 6
        }
      ]
    },
    {
      "cell_type": "code",
      "source": [
        "train_data['location'].fillna('USA',inplace=True) ## fill the null by mode "
      ],
      "metadata": {
        "id": "SNJpvubaYj9I"
      },
      "execution_count": 7,
      "outputs": []
    },
    {
      "cell_type": "code",
      "source": [
        "train_data['location'].value_counts().head(15) ## the top 15"
      ],
      "metadata": {
        "colab": {
          "base_uri": "https://localhost:8080/"
        },
        "id": "1K8KzmG5ZmIA",
        "outputId": "3728569e-8b81-4bb8-b0c4-7edf79fb3224"
      },
      "execution_count": 8,
      "outputs": [
        {
          "output_type": "execute_result",
          "data": {
            "text/plain": [
              "USA                2637\n",
              "New York             71\n",
              "United States        50\n",
              "London               45\n",
              "Canada               29\n",
              "Nigeria              28\n",
              "UK                   27\n",
              "Los Angeles, CA      26\n",
              "India                24\n",
              "Mumbai               22\n",
              "Washington, DC       21\n",
              "Kenya                20\n",
              "Worldwide            19\n",
              "Australia            18\n",
              "Chicago, IL          18\n",
              "Name: location, dtype: int64"
            ]
          },
          "metadata": {},
          "execution_count": 8
        }
      ]
    },
    {
      "cell_type": "markdown",
      "source": [
        "#6) Get the top 15 keyword in the data"
      ],
      "metadata": {
        "id": "P8MPLeBMcFe2"
      }
    },
    {
      "cell_type": "code",
      "source": [
        "train_data['keyword'].value_counts().head(15) ## the top15 of the keywords"
      ],
      "metadata": {
        "colab": {
          "base_uri": "https://localhost:8080/"
        },
        "id": "3wUq-qi5aG39",
        "outputId": "7fbc4ab4-e67b-4d31-8251-74cef9ed2d87"
      },
      "execution_count": 9,
      "outputs": [
        {
          "output_type": "execute_result",
          "data": {
            "text/plain": [
              "fatalities     45\n",
              "deluge         42\n",
              "armageddon     42\n",
              "sinking        41\n",
              "damage         41\n",
              "harm           41\n",
              "body%20bags    41\n",
              "outbreak       40\n",
              "evacuate       40\n",
              "fear           40\n",
              "collided       40\n",
              "siren          40\n",
              "twister        40\n",
              "windstorm      40\n",
              "sinkhole       39\n",
              "Name: keyword, dtype: int64"
            ]
          },
          "metadata": {},
          "execution_count": 9
        }
      ]
    },
    {
      "cell_type": "code",
      "source": [
        "train_data['keyword'].fillna('fatalities',inplace=True) ## file the nulls by\n",
        "train_data['keyword'].value_counts().head(15)"
      ],
      "metadata": {
        "id": "E-u-EwlRcKUA",
        "colab": {
          "base_uri": "https://localhost:8080/"
        },
        "outputId": "3526c132-6a9a-499c-b1b4-35b4d381b74f"
      },
      "execution_count": 10,
      "outputs": [
        {
          "output_type": "execute_result",
          "data": {
            "text/plain": [
              "fatalities     106\n",
              "deluge          42\n",
              "armageddon      42\n",
              "damage          41\n",
              "harm            41\n",
              "body%20bags     41\n",
              "sinking         41\n",
              "siren           40\n",
              "evacuate        40\n",
              "fear            40\n",
              "outbreak        40\n",
              "twister         40\n",
              "windstorm       40\n",
              "collided        40\n",
              "sunk            39\n",
              "Name: keyword, dtype: int64"
            ]
          },
          "metadata": {},
          "execution_count": 10
        }
      ]
    },
    {
      "cell_type": "markdown",
      "source": [
        "#7) What are the most common words?"
      ],
      "metadata": {
        "id": "Hd6XDl7kex_-"
      }
    },
    {
      "cell_type": "markdown",
      "source": [
        "####Cleaning tweets"
      ],
      "metadata": {
        "id": "WI4oDgnQf8N9"
      }
    },
    {
      "cell_type": "code",
      "source": [
        "import re\n",
        "tweets = train_data['text'] \n",
        "tweets[:10]"
      ],
      "metadata": {
        "colab": {
          "base_uri": "https://localhost:8080/"
        },
        "id": "9yMmJbUJfNMx",
        "outputId": "023b7161-ecb8-4fee-b1eb-89327c4d3032"
      },
      "execution_count": 11,
      "outputs": [
        {
          "output_type": "execute_result",
          "data": {
            "text/plain": [
              "0    Our Deeds are the Reason of this #earthquake M...\n",
              "1               Forest fire near La Ronge Sask. Canada\n",
              "2    All residents asked to 'shelter in place' are ...\n",
              "3    13,000 people receive #wildfires evacuation or...\n",
              "4    Just got sent this photo from Ruby #Alaska as ...\n",
              "5    #RockyFire Update => California Hwy. 20 closed...\n",
              "6    #flood #disaster Heavy rain causes flash flood...\n",
              "7    I'm on top of the hill and I can see a fire in...\n",
              "8    There's an emergency evacuation happening now ...\n",
              "9    I'm afraid that the tornado is coming to our a...\n",
              "Name: text, dtype: object"
            ]
          },
          "metadata": {},
          "execution_count": 11
        }
      ]
    },
    {
      "cell_type": "code",
      "source": [
        "def Removingunicodes(word): ##removing the words with funny letters \n",
        "  temp = word.encode(\"ascii\", \"ignore\")\n",
        "  temp = temp.decode()\n",
        "  return temp"
      ],
      "metadata": {
        "id": "LPW8L9F8BanB"
      },
      "execution_count": 12,
      "outputs": []
    },
    {
      "cell_type": "code",
      "source": [
        "def Cleantexts(text): # reomving the last and first spaces ,links , dots and emotions \n",
        "  text = re.sub(r'#\\w*','',text)\n",
        "  text = re.sub(r'@\\w*','',text)\n",
        "  text = re.sub(r'https?:\\S+','',text)\n",
        "  text = re.sub(r'\\d+','',text)\n",
        "  text = re.sub(r'\\W+',' ',text)\n",
        "  text = re.sub(r'^\\s','',text)\n",
        "  text = re.sub(r'\\s$','',text)\n",
        "  text = re.sub(r'_','',text)\n",
        "\n",
        "\n",
        "  return text"
      ],
      "metadata": {
        "id": "kWTxUhl5fNKY"
      },
      "execution_count": 13,
      "outputs": []
    },
    {
      "cell_type": "code",
      "source": [
        "cleaned_tweets = []\n",
        "for tweet in tweets:\n",
        "  cleaned_tweets.append(Cleantexts(tweet))"
      ],
      "metadata": {
        "id": "_GUx8MgNfNCN"
      },
      "execution_count": 14,
      "outputs": []
    },
    {
      "cell_type": "code",
      "source": [
        "no_uni = []\n",
        "for tweet in cleaned_tweets:\n",
        "  no_uni.append(Removingunicodes(tweet))"
      ],
      "metadata": {
        "id": "RRwufUADChiw"
      },
      "execution_count": 15,
      "outputs": []
    },
    {
      "cell_type": "code",
      "source": [
        "list_of_tweets = []   #toknize the tweets manually\n",
        "for tweet in no_uni:\n",
        "  list_of_tweets.append(tweet.split())\n",
        "list_of_tweets[:2]"
      ],
      "metadata": {
        "id": "gdrSE8Z1vrTz",
        "colab": {
          "base_uri": "https://localhost:8080/"
        },
        "outputId": "8d184832-6773-4fec-ded1-6d4a17f6414b"
      },
      "execution_count": 16,
      "outputs": [
        {
          "output_type": "execute_result",
          "data": {
            "text/plain": [
              "[['Our',\n",
              "  'Deeds',\n",
              "  'are',\n",
              "  'the',\n",
              "  'Reason',\n",
              "  'of',\n",
              "  'this',\n",
              "  'May',\n",
              "  'ALLAH',\n",
              "  'Forgive',\n",
              "  'us',\n",
              "  'all'],\n",
              " ['Forest', 'fire', 'near', 'La', 'Ronge', 'Sask', 'Canada']]"
            ]
          },
          "metadata": {},
          "execution_count": 16
        }
      ]
    },
    {
      "cell_type": "code",
      "source": [
        "words = [] ##ravel the list of  words to can get the top repeted words and stopwords\n",
        "for sentence in list_of_tweets:\n",
        "  for word in sentence:\n",
        "    words.append(word)\n"
      ],
      "metadata": {
        "id": "HvkWXZZ7yXpD"
      },
      "execution_count": 17,
      "outputs": []
    },
    {
      "cell_type": "code",
      "source": [
        "from nltk.corpus import stopwords\n",
        "nltk.download('stopwords')"
      ],
      "metadata": {
        "colab": {
          "base_uri": "https://localhost:8080/"
        },
        "id": "GCPKKeUx_EYI",
        "outputId": "077096ac-7ead-4095-c0b2-167b7f27c589"
      },
      "execution_count": 18,
      "outputs": [
        {
          "output_type": "stream",
          "name": "stdout",
          "text": [
            "[nltk_data] Downloading package stopwords to /root/nltk_data...\n",
            "[nltk_data]   Unzipping corpora/stopwords.zip.\n"
          ]
        },
        {
          "output_type": "execute_result",
          "data": {
            "text/plain": [
              "True"
            ]
          },
          "metadata": {},
          "execution_count": 18
        }
      ]
    },
    {
      "cell_type": "code",
      "source": [
        "from nltk.corpus import stopwords\n",
        "stop_words = stopwords.words('english') ##get all the stopwrds\n",
        "\n",
        "def remove_stopwords(words): \n",
        "  WORDS = []\n",
        "  for word in words:\n",
        "    if word.lower() not in stop_words:   ##check if the word is stop or not with making sure its small word \n",
        "      WORDS.append(word)\n",
        "  return WORDS"
      ],
      "metadata": {
        "id": "A9w3vCHe2WxM"
      },
      "execution_count": 19,
      "outputs": []
    },
    {
      "cell_type": "code",
      "source": [
        ""
      ],
      "metadata": {
        "id": "eHEhnRfH_eDz"
      },
      "execution_count": 19,
      "outputs": []
    },
    {
      "cell_type": "markdown",
      "source": [
        "#The most Common stop words "
      ],
      "metadata": {
        "id": "wuhLPigc_ffy"
      }
    },
    {
      "cell_type": "code",
      "source": [
        "from collections import Counter\n",
        "most_Stop_words=Counter(words).most_common\n",
        "most_Stop_words()[:5] ##showing the top stopwords"
      ],
      "metadata": {
        "colab": {
          "base_uri": "https://localhost:8080/"
        },
        "id": "m_E0cPB1_bgw",
        "outputId": "73ec7e78-8229-4f8c-eb6e-59c1eb1a97dd"
      },
      "execution_count": 20,
      "outputs": [
        {
          "output_type": "execute_result",
          "data": {
            "text/plain": [
              "[('the', 2603), ('a', 1891), ('to', 1819), ('in', 1782), ('of', 1738)]"
            ]
          },
          "metadata": {},
          "execution_count": 20
        }
      ]
    },
    {
      "cell_type": "code",
      "source": [
        "words = remove_stopwords(words) ##removing the stop words "
      ],
      "metadata": {
        "id": "EXaZngOyyy3J"
      },
      "execution_count": 21,
      "outputs": []
    },
    {
      "cell_type": "markdown",
      "source": [
        "#The most common words "
      ],
      "metadata": {
        "id": "wlznq3Gu_pT4"
      }
    },
    {
      "cell_type": "code",
      "source": [
        "from collections import Counter\n",
        "Counter(words).most_common()[:5] ## the most common words"
      ],
      "metadata": {
        "colab": {
          "base_uri": "https://localhost:8080/"
        },
        "id": "JgeoP0aNyy1E",
        "outputId": "ca3538e9-57e8-4823-a55b-785b388833c5"
      },
      "execution_count": 22,
      "outputs": [
        {
          "output_type": "execute_result",
          "data": {
            "text/plain": [
              "[('amp', 344), ('like', 324), ('via', 213), ('get', 184), ('fire', 174)]"
            ]
          },
          "metadata": {},
          "execution_count": 22
        }
      ]
    },
    {
      "cell_type": "markdown",
      "source": [
        "# Removing the stop-words from the words of the statements not the list of words which is raveled"
      ],
      "metadata": {
        "id": "OkJrp5DfL8ft"
      }
    },
    {
      "cell_type": "code",
      "source": [
        "for tweet_worded in list_of_tweets:\n",
        "  for word in tweet_worded:\n",
        "    if word.lower() in stop_words or word in stop_words or word.upper() in stop_words or word=='us':\n",
        "      tweet_worded.remove(word)\n",
        "    \n",
        "\n",
        "  "
      ],
      "metadata": {
        "id": "W5TG1AdSH_NP"
      },
      "execution_count": 23,
      "outputs": []
    },
    {
      "cell_type": "code",
      "source": [
        "list_of_tweets[:3]"
      ],
      "metadata": {
        "colab": {
          "base_uri": "https://localhost:8080/"
        },
        "id": "L1_dyMaeNdfz",
        "outputId": "d067a4ca-4b1b-4b9d-afba-af1536ed3024"
      },
      "execution_count": 24,
      "outputs": [
        {
          "output_type": "execute_result",
          "data": {
            "text/plain": [
              "[['Deeds', 'the', 'Reason', 'this', 'May', 'ALLAH', 'Forgive', 'all'],\n",
              " ['Forest', 'fire', 'near', 'La', 'Ronge', 'Sask', 'Canada'],\n",
              " ['residents',\n",
              "  'asked',\n",
              "  'shelter',\n",
              "  'place',\n",
              "  'being',\n",
              "  'notified',\n",
              "  'officers',\n",
              "  'other',\n",
              "  'evacuation',\n",
              "  'shelter',\n",
              "  'place',\n",
              "  'orders',\n",
              "  'expected']]"
            ]
          },
          "metadata": {},
          "execution_count": 24
        }
      ]
    },
    {
      "cell_type": "code",
      "source": [
        "from nltk.stem import PorterStemmer\n",
        "ps=PorterStemmer()\n",
        "def preparing_wrods(tweets):\n",
        "  prepared_tweet=[]\n",
        "  for tweet in tweets:\n",
        "    tweet=[ps.stem(word) for word in tweet]\n",
        "    prepared_tweet.append(tweet)\n",
        "  return prepared_tweet"
      ],
      "metadata": {
        "id": "Gxp_yzclf403"
      },
      "execution_count": 25,
      "outputs": []
    },
    {
      "cell_type": "code",
      "source": [
        "len(list_of_tweets)"
      ],
      "metadata": {
        "id": "s5prSToDgTUR",
        "outputId": "cd2dc025-a4cf-40b3-89df-b05501ad56e8",
        "colab": {
          "base_uri": "https://localhost:8080/"
        }
      },
      "execution_count": 26,
      "outputs": [
        {
          "output_type": "execute_result",
          "data": {
            "text/plain": [
              "7613"
            ]
          },
          "metadata": {},
          "execution_count": 26
        }
      ]
    },
    {
      "cell_type": "code",
      "source": [
        "list_of_tweets=preparing_wrods(list_of_tweets)"
      ],
      "metadata": {
        "id": "IPeG_ETCgZZ2"
      },
      "execution_count": 27,
      "outputs": []
    },
    {
      "cell_type": "code",
      "source": [
        "list_of_tweets[:5]"
      ],
      "metadata": {
        "id": "cI77T_jVgmZK",
        "outputId": "96ce2d80-1ff5-49dc-df84-05d2afe469ed",
        "colab": {
          "base_uri": "https://localhost:8080/"
        }
      },
      "execution_count": 28,
      "outputs": [
        {
          "output_type": "execute_result",
          "data": {
            "text/plain": [
              "[['deed', 'the', 'reason', 'thi', 'may', 'allah', 'forgiv', 'all'],\n",
              " ['forest', 'fire', 'near', 'La', 'rong', 'sask', 'canada'],\n",
              " ['resid',\n",
              "  'ask',\n",
              "  'shelter',\n",
              "  'place',\n",
              "  'be',\n",
              "  'notifi',\n",
              "  'offic',\n",
              "  'other',\n",
              "  'evacu',\n",
              "  'shelter',\n",
              "  'place',\n",
              "  'order',\n",
              "  'expect'],\n",
              " ['peopl', 'receiv', 'evacu', 'order', 'california'],\n",
              " ['got', 'sent', 'photo', 'rubi', 'smoke', 'pour', 'a', 'school']]"
            ]
          },
          "metadata": {},
          "execution_count": 28
        }
      ]
    },
    {
      "cell_type": "markdown",
      "source": [
        "##import the tokener and pad_sequncer\n",
        " to token the tweets to digits and estiamte range of padding to each tweet"
      ],
      "metadata": {
        "id": "tuczNzWU83Q6"
      }
    },
    {
      "cell_type": "code",
      "source": [
        "from tensorflow.keras.preprocessing.text import Tokenizer\n",
        "from tensorflow.keras.preprocessing.sequence import pad_sequences"
      ],
      "metadata": {
        "id": "6L9OlcXWgr67"
      },
      "execution_count": 29,
      "outputs": []
    },
    {
      "cell_type": "code",
      "source": [
        "tokener=Tokenizer()\n",
        "tokener.fit_on_texts(list_of_tweets)\n",
        "tweets_squenced=tokener.texts_to_sequences(list_of_tweets)\n",
        "tweets_squenced[:2]"
      ],
      "metadata": {
        "colab": {
          "base_uri": "https://localhost:8080/"
        },
        "id": "0Ep8VkbIlYGw",
        "outputId": "df2cf95c-f00e-4af0-9c59-45a598c7e5c5"
      },
      "execution_count": 31,
      "outputs": [
        {
          "output_type": "execute_result",
          "data": {
            "text/plain": [
              "[[3521, 1, 531, 56, 120, 2423, 2863, 98], [183, 5, 224, 650, 4863, 4864, 1252]]"
            ]
          },
          "metadata": {},
          "execution_count": 31
        }
      ]
    },
    {
      "cell_type": "code",
      "source": [
        "paded_squencesed_tweets=pad_sequences(tweets_squenced,maxlen=30)\n",
        "paded_squencesed_tweets[:2]"
      ],
      "metadata": {
        "colab": {
          "base_uri": "https://localhost:8080/"
        },
        "id": "vTyO9PionQSv",
        "outputId": "51d8e947-9faa-4b41-e134-af2bbedd53b1"
      },
      "execution_count": 36,
      "outputs": [
        {
          "output_type": "execute_result",
          "data": {
            "text/plain": [
              "array([[   0,    0,    0,    0,    0,    0,    0,    0,    0,    0,    0,\n",
              "           0,    0,    0,    0,    0,    0,    0,    0,    0,    0,    0,\n",
              "        3521,    1,  531,   56,  120, 2423, 2863,   98],\n",
              "       [   0,    0,    0,    0,    0,    0,    0,    0,    0,    0,    0,\n",
              "           0,    0,    0,    0,    0,    0,    0,    0,    0,    0,    0,\n",
              "           0,  183,    5,  224,  650, 4863, 4864, 1252]], dtype=int32)"
            ]
          },
          "metadata": {},
          "execution_count": 36
        }
      ]
    },
    {
      "cell_type": "code",
      "source": [
        "from tensorflow.keras.models import Sequential\n",
        "from tensorflow.keras.layers import LSTM,Dense,Embedding,Dropout\n",
        "import tensorflow as tf\n",
        "len(tokener.word_index)"
      ],
      "metadata": {
        "colab": {
          "base_uri": "https://localhost:8080/"
        },
        "id": "OPhOQfbonySy",
        "outputId": "27266fab-1a14-4459-c961-6d99b259b457"
      },
      "execution_count": 43,
      "outputs": [
        {
          "output_type": "execute_result",
          "data": {
            "text/plain": [
              "9982"
            ]
          },
          "metadata": {},
          "execution_count": 43
        }
      ]
    },
    {
      "cell_type": "code",
      "source": [
        "target=train_data.iloc[:,-1]\n",
        "target"
      ],
      "metadata": {
        "colab": {
          "base_uri": "https://localhost:8080/"
        },
        "id": "CuV51VrBrPxF",
        "outputId": "3229e8fb-edaf-47dc-ae78-c38e37911345"
      },
      "execution_count": 49,
      "outputs": [
        {
          "output_type": "execute_result",
          "data": {
            "text/plain": [
              "0       1\n",
              "1       1\n",
              "2       1\n",
              "3       1\n",
              "4       1\n",
              "       ..\n",
              "7608    1\n",
              "7609    1\n",
              "7610    1\n",
              "7611    1\n",
              "7612    1\n",
              "Name: target, Length: 7613, dtype: int64"
            ]
          },
          "metadata": {},
          "execution_count": 49
        }
      ]
    },
    {
      "cell_type": "markdown",
      "source": [
        "##Split the data to train and validate "
      ],
      "metadata": {
        "id": "bffZQdpz8vaC"
      }
    },
    {
      "cell_type": "code",
      "source": [
        "from sklearn.model_selection import train_test_split\n",
        "trainx,validx,trainy,validy=train_test_split(paded_squencesed_tweets,target)\n"
      ],
      "metadata": {
        "id": "f8z6nSKEqkD5"
      },
      "execution_count": 50,
      "outputs": []
    },
    {
      "cell_type": "markdown",
      "source": [
        "## Model Building "
      ],
      "metadata": {
        "id": "Crc_66WAv-jO"
      }
    },
    {
      "cell_type": "code",
      "source": [
        "model = Sequential()\n",
        "model.add(Embedding(10000,10,input_length=30))\n",
        "\n",
        "model.add(LSTM(128))\n",
        "\n",
        "model.add(Dense(32,activation='relu'))\n",
        "\n",
        "model.add(Dense(1,activation='sigmoid'))\n",
        "model.compile(loss=\"binary_crossentropy\",optimizer='rmsprop',metrics=['accuracy'])\n",
        "model.summary()"
      ],
      "metadata": {
        "colab": {
          "base_uri": "https://localhost:8080/"
        },
        "id": "ZvkO2u3PoyBR",
        "outputId": "143b682e-3dd9-452e-ce95-1083909691de"
      },
      "execution_count": 126,
      "outputs": [
        {
          "output_type": "stream",
          "name": "stdout",
          "text": [
            "Model: \"sequential_12\"\n",
            "_________________________________________________________________\n",
            " Layer (type)                Output Shape              Param #   \n",
            "=================================================================\n",
            " embedding_12 (Embedding)    (None, 30, 10)            100000    \n",
            "                                                                 \n",
            " lstm_12 (LSTM)              (None, 128)               71168     \n",
            "                                                                 \n",
            " dense_24 (Dense)            (None, 32)                4128      \n",
            "                                                                 \n",
            " dense_25 (Dense)            (None, 1)                 33        \n",
            "                                                                 \n",
            "=================================================================\n",
            "Total params: 175,329\n",
            "Trainable params: 175,329\n",
            "Non-trainable params: 0\n",
            "_________________________________________________________________\n"
          ]
        }
      ]
    },
    {
      "cell_type": "markdown",
      "source": [
        "#Training"
      ],
      "metadata": {
        "id": "BkAnE8vo_8NT"
      }
    },
    {
      "cell_type": "code",
      "source": [
        "history=model.fit(np.array(trainx),np.array(trainy).reshape(-1,1),epochs=5,validation_data=(np.array(validx),np.array(validy).reshape(-1,1)),verbose=True)"
      ],
      "metadata": {
        "colab": {
          "base_uri": "https://localhost:8080/"
        },
        "id": "bUnTW0L5qd7f",
        "outputId": "dc48abf4-6ee5-4787-c207-96769d7caf90"
      },
      "execution_count": 127,
      "outputs": [
        {
          "output_type": "stream",
          "name": "stdout",
          "text": [
            "Epoch 1/5\n",
            "179/179 [==============================] - 11s 44ms/step - loss: 0.5939 - accuracy: 0.6849 - val_loss: 0.4931 - val_accuracy: 0.7731\n",
            "Epoch 2/5\n",
            "179/179 [==============================] - 8s 47ms/step - loss: 0.4181 - accuracy: 0.8245 - val_loss: 0.4635 - val_accuracy: 0.7805\n",
            "Epoch 3/5\n",
            "179/179 [==============================] - 7s 42ms/step - loss: 0.3611 - accuracy: 0.8525 - val_loss: 0.4638 - val_accuracy: 0.7778\n",
            "Epoch 4/5\n",
            "179/179 [==============================] - 7s 42ms/step - loss: 0.3283 - accuracy: 0.8679 - val_loss: 0.4939 - val_accuracy: 0.7742\n",
            "Epoch 5/5\n",
            "179/179 [==============================] - 7s 41ms/step - loss: 0.3059 - accuracy: 0.8781 - val_loss: 0.4713 - val_accuracy: 0.7831\n"
          ]
        }
      ]
    },
    {
      "cell_type": "markdown",
      "source": [
        "## analyz the accuracy and loss \n",
        "the model has a littel of overfitting cause the dataset complexity not enough "
      ],
      "metadata": {
        "id": "D51mTxuF8OgF"
      }
    },
    {
      "cell_type": "code",
      "source": [
        "plt.plot(history.history['accuracy'])\n",
        "plt.plot(history.history['val_accuracy'])\n",
        "plt.show()"
      ],
      "metadata": {
        "colab": {
          "base_uri": "https://localhost:8080/",
          "height": 265
        },
        "id": "T2-5MGAc55YS",
        "outputId": "555613a9-7353-4276-eb56-ac628d0e08e0"
      },
      "execution_count": 129,
      "outputs": [
        {
          "output_type": "display_data",
          "data": {
            "text/plain": [
              "<Figure size 432x288 with 1 Axes>"
            ],
            "image/png": "[encoded data removed]"
          },
          "metadata": {
            "needs_background": "light"
          }
        }
      ]
    },
    {
      "cell_type": "code",
      "source": [
        "plt.plot(history.history['loss'])\n",
        "plt.plot(history.history['val_loss'])\n",
        "plt.show()"
      ],
      "metadata": {
        "colab": {
          "base_uri": "https://localhost:8080/",
          "height": 265
        },
        "id": "N0lR14D77MX9",
        "outputId": "c1e8368c-9d87-4d27-912f-3c0f61612f13"
      },
      "execution_count": 130,
      "outputs": [
        {
          "output_type": "display_data",
          "data": {
            "text/plain": [
              "<Figure size 432x288 with 1 Axes>"
            ],
            "image/png": "[encoded data removed]"
          },
          "metadata": {
            "needs_background": "light"
          }
        }
      ]
    },
    {
      "cell_type": "markdown",
      "source": [
        "## Reading the test data ana prepare it "
      ],
      "metadata": {
        "id": "416IR7zk8FYE"
      }
    },
    {
      "cell_type": "code",
      "source": [
        "test_Data= pd.read_csv(\"test.csv\")\n",
        "test_Data.shape\n",
        "test_tweets=test_Data['text']"
      ],
      "metadata": {
        "id": "ySTQvrrisYnA"
      },
      "execution_count": 72,
      "outputs": []
    },
    {
      "cell_type": "code",
      "source": [
        "cleaned_testedtweets = []\n",
        "for tweet in test_tweets:\n",
        "  cleaned_testedtweets.append(Cleantexts(tweet))"
      ],
      "metadata": {
        "id": "ga1EmfcBw6jW"
      },
      "execution_count": 76,
      "outputs": []
    },
    {
      "cell_type": "code",
      "source": [
        "no_uni_test = []\n",
        "for tweet in cleaned_testedtweets:\n",
        "  no_uni_test.append(Removingunicodes(tweet))"
      ],
      "metadata": {
        "id": "BDtiwwh_yKdk"
      },
      "execution_count": 78,
      "outputs": []
    },
    {
      "cell_type": "code",
      "source": [
        "list_of_tweets_test = []   #toknize the tweets manually\n",
        "for tweet in no_uni_test:\n",
        "  list_of_tweets_test.append(tweet.split())\n",
        "list_of_tweets_test[:2]"
      ],
      "metadata": {
        "colab": {
          "base_uri": "https://localhost:8080/"
        },
        "id": "aDSnGPXByNdK",
        "outputId": "728ed799-ac4c-473d-d1cd-bae8e6ca9768"
      },
      "execution_count": 79,
      "outputs": [
        {
          "output_type": "execute_result",
          "data": {
            "text/plain": [
              "[['Just', 'happened', 'a', 'terrible', 'car', 'crash'],\n",
              " ['Heard', 'about', 'is', 'different', 'cities', 'stay', 'safe', 'everyone']]"
            ]
          },
          "metadata": {},
          "execution_count": 79
        }
      ]
    },
    {
      "cell_type": "code",
      "source": [
        "for tweet_worded in list_of_tweets_test:\n",
        "  for word in tweet_worded:\n",
        "    if word.lower() in stop_words or word in stop_words or word.upper() in stop_words or word=='us':\n",
        "      tweet_worded.remove(word)"
      ],
      "metadata": {
        "id": "msbd8ftQzBJJ"
      },
      "execution_count": 84,
      "outputs": []
    },
    {
      "cell_type": "code",
      "source": [
        "list_of_tweets_test[:2]"
      ],
      "metadata": {
        "colab": {
          "base_uri": "https://localhost:8080/"
        },
        "id": "PByKDPtSztTk",
        "outputId": "adbea86f-385e-4e14-b374-8ec700e912b7"
      },
      "execution_count": 85,
      "outputs": [
        {
          "output_type": "execute_result",
          "data": {
            "text/plain": [
              "[['happened', 'terrible', 'car', 'crash'],\n",
              " ['Heard', 'different', 'cities', 'stay', 'safe', 'everyone']]"
            ]
          },
          "metadata": {},
          "execution_count": 85
        }
      ]
    },
    {
      "cell_type": "code",
      "source": [
        " list_of_tweets_test=preparing_wrods(list_of_tweets_test)"
      ],
      "metadata": {
        "id": "arFu4t_xzvBa"
      },
      "execution_count": 87,
      "outputs": []
    },
    {
      "cell_type": "code",
      "source": [
        "list_of_tweets_test[:2]"
      ],
      "metadata": {
        "colab": {
          "base_uri": "https://localhost:8080/"
        },
        "id": "4YCaXPHi0L3F",
        "outputId": "6bcbe232-5dfa-4542-ac2d-d1234730c41d"
      },
      "execution_count": 92,
      "outputs": [
        {
          "output_type": "execute_result",
          "data": {
            "text/plain": [
              "[['happen', 'terribl', 'car', 'crash'],\n",
              " ['heard', 'differ', 'citi', 'stay', 'safe', 'everyon']]"
            ]
          },
          "metadata": {},
          "execution_count": 92
        }
      ]
    },
    {
      "cell_type": "code",
      "source": [
        "tokener2=Tokenizer()\n",
        "tokener2.fit_on_texts(list_of_tweets_test)\n",
        "tweets_squenced=tokener2.texts_to_sequences(list_of_tweets_test)\n",
        "tweets_squenced[:2]"
      ],
      "metadata": {
        "colab": {
          "base_uri": "https://localhost:8080/"
        },
        "id": "lUK4JSMO0Pc5",
        "outputId": "d8df3c25-b063-4cfa-bda4-53391a724c96"
      },
      "execution_count": 93,
      "outputs": [
        {
          "output_type": "execute_result",
          "data": {
            "text/plain": [
              "[[100, 815, 68, 20], [223, 944, 145, 494, 661, 351]]"
            ]
          },
          "metadata": {},
          "execution_count": 93
        }
      ]
    },
    {
      "cell_type": "code",
      "source": [
        "paded_sequenceses_tweets_Test=pad_sequences(tweets_squenced,maxlen=30)\n",
        "paded_sequenceses_tweets_Test[:2]"
      ],
      "metadata": {
        "colab": {
          "base_uri": "https://localhost:8080/"
        },
        "id": "v0PkCvz61TYN",
        "outputId": "9cd151d8-4647-4d04-efed-67e568ae5c18"
      },
      "execution_count": 95,
      "outputs": [
        {
          "output_type": "execute_result",
          "data": {
            "text/plain": [
              "array([[  0,   0,   0,   0,   0,   0,   0,   0,   0,   0,   0,   0,   0,\n",
              "          0,   0,   0,   0,   0,   0,   0,   0,   0,   0,   0,   0,   0,\n",
              "        100, 815,  68,  20],\n",
              "       [  0,   0,   0,   0,   0,   0,   0,   0,   0,   0,   0,   0,   0,\n",
              "          0,   0,   0,   0,   0,   0,   0,   0,   0,   0,   0, 223, 944,\n",
              "        145, 494, 661, 351]], dtype=int32)"
            ]
          },
          "metadata": {},
          "execution_count": 95
        }
      ]
    },
    {
      "cell_type": "code",
      "source": [
        "ypred=model.predict(paded_sequenceses_tweets_Test)"
      ],
      "metadata": {
        "id": "CaEbxVMR1zqB"
      },
      "execution_count": 115,
      "outputs": []
    },
    {
      "cell_type": "code",
      "source": [
        "for i in range(len(ypred)):\n",
        "  if ypred[i]>=.5:\n",
        "    ypred[i]=1\n",
        "  else:\n",
        "    ypred[i]=0"
      ],
      "metadata": {
        "id": "H8xqwVMI44vq"
      },
      "execution_count": 116,
      "outputs": []
    },
    {
      "cell_type": "markdown",
      "source": [
        "## checking model by unseen data"
      ],
      "metadata": {
        "id": "ANfPWsCeBEyG"
      }
    },
    {
      "cell_type": "code",
      "source": [
        "ypred[10:20]"
      ],
      "metadata": {
        "colab": {
          "base_uri": "https://localhost:8080/"
        },
        "id": "UJSjIv1F5PlS",
        "outputId": "fc182d4b-8312-41e8-a62a-7019fe4fcf95"
      },
      "execution_count": 148,
      "outputs": [
        {
          "output_type": "execute_result",
          "data": {
            "text/plain": [
              "array([[0.],\n",
              "       [0.],\n",
              "       [0.],\n",
              "       [0.],\n",
              "       [0.],\n",
              "       [0.],\n",
              "       [0.],\n",
              "       [0.],\n",
              "       [1.],\n",
              "       [1.]], dtype=float32)"
            ]
          },
          "metadata": {},
          "execution_count": 148
        }
      ]
    },
    {
      "cell_type": "code",
      "source": [
        "list_of_tweets_test[10:20]"
      ],
      "metadata": {
        "colab": {
          "base_uri": "https://localhost:8080/"
        },
        "id": "dE9_Hqnt5Ris",
        "outputId": "4fe46b0c-3d96-4ccf-8a22-b9584bd9a53d"
      },
      "execution_count": 149,
      "outputs": [
        {
          "output_type": "execute_result",
          "data": {
            "text/plain": [
              "[['like', 'cold'],\n",
              " ['nooooooooo'],\n",
              " ['tell'],\n",
              " [],\n",
              " ['awesom'],\n",
              " ['birmingham',\n",
              "  'wholes',\n",
              "  'market',\n",
              "  'ablaz',\n",
              "  'bbc',\n",
              "  'new',\n",
              "  'fire',\n",
              "  'break',\n",
              "  'birmingham',\n",
              "  'wholes',\n",
              "  'market'],\n",
              " ['wear', 'short', 'race', 'ablaz'],\n",
              " ['toke',\n",
              "  'makinwa',\n",
              "  'marriag',\n",
              "  'crisi',\n",
              "  'set',\n",
              "  'nigerian',\n",
              "  'twitter',\n",
              "  'ablaz'],\n",
              " ['check'],\n",
              " ['psa', 'split', 'person', 'techi', 'follow', 'burner', 'follow']]"
            ]
          },
          "metadata": {},
          "execution_count": 149
        }
      ]
    },
    {
      "cell_type": "code",
      "source": [
        ""
      ],
      "metadata": {
        "id": "8h40IeB-AGwN"
      },
      "execution_count": null,
      "outputs": []
    }
  ]
}